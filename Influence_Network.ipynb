{
 "cells": [
  {
   "cell_type": "code",
   "execution_count": 1,
   "metadata": {},
   "outputs": [],
   "source": [
    "import pandas as pd"
   ]
  },
  {
   "cell_type": "code",
   "execution_count": 3,
   "metadata": {},
   "outputs": [
    {
     "data": {
      "text/html": [
       "<div>\n",
       "<style scoped>\n",
       "    .dataframe tbody tr th:only-of-type {\n",
       "        vertical-align: middle;\n",
       "    }\n",
       "\n",
       "    .dataframe tbody tr th {\n",
       "        vertical-align: top;\n",
       "    }\n",
       "\n",
       "    .dataframe thead th {\n",
       "        text-align: right;\n",
       "    }\n",
       "</style>\n",
       "<table border=\"1\" class=\"dataframe\">\n",
       "  <thead>\n",
       "    <tr style=\"text-align: right;\">\n",
       "      <th></th>\n",
       "      <th>quarter</th>\n",
       "      <th>epoch</th>\n",
       "      <th>author</th>\n",
       "      <th>pagerank</th>\n",
       "      <th>kcore</th>\n",
       "      <th>degree</th>\n",
       "      <th>stays_next</th>\n",
       "    </tr>\n",
       "  </thead>\n",
       "  <tbody>\n",
       "    <tr>\n",
       "      <th>0</th>\n",
       "      <td>2015Q3</td>\n",
       "      <td>E0</td>\n",
       "      <td>champurrada</td>\n",
       "      <td>0.013182</td>\n",
       "      <td>2</td>\n",
       "      <td>2</td>\n",
       "      <td>0</td>\n",
       "    </tr>\n",
       "    <tr>\n",
       "      <th>1</th>\n",
       "      <td>2015Q3</td>\n",
       "      <td>E0</td>\n",
       "      <td>mau5trapper2</td>\n",
       "      <td>0.013619</td>\n",
       "      <td>2</td>\n",
       "      <td>4</td>\n",
       "      <td>0</td>\n",
       "    </tr>\n",
       "    <tr>\n",
       "      <th>2</th>\n",
       "      <td>2015Q3</td>\n",
       "      <td>E0</td>\n",
       "      <td>Exyi</td>\n",
       "      <td>0.018805</td>\n",
       "      <td>3</td>\n",
       "      <td>3</td>\n",
       "      <td>0</td>\n",
       "    </tr>\n",
       "    <tr>\n",
       "      <th>3</th>\n",
       "      <td>2015Q3</td>\n",
       "      <td>E0</td>\n",
       "      <td>mjmedstarved</td>\n",
       "      <td>0.019928</td>\n",
       "      <td>4</td>\n",
       "      <td>8</td>\n",
       "      <td>0</td>\n",
       "    </tr>\n",
       "    <tr>\n",
       "      <th>4</th>\n",
       "      <td>2015Q3</td>\n",
       "      <td>E0</td>\n",
       "      <td>CamIsHungry</td>\n",
       "      <td>0.009472</td>\n",
       "      <td>3</td>\n",
       "      <td>3</td>\n",
       "      <td>0</td>\n",
       "    </tr>\n",
       "  </tbody>\n",
       "</table>\n",
       "</div>"
      ],
      "text/plain": [
       "  quarter epoch        author  pagerank  kcore  degree  stays_next\n",
       "0  2015Q3    E0   champurrada  0.013182      2       2           0\n",
       "1  2015Q3    E0  mau5trapper2  0.013619      2       4           0\n",
       "2  2015Q3    E0          Exyi  0.018805      3       3           0\n",
       "3  2015Q3    E0  mjmedstarved  0.019928      4       8           0\n",
       "4  2015Q3    E0   CamIsHungry  0.009472      3       3           0"
      ]
     },
     "execution_count": 3,
     "metadata": {},
     "output_type": "execute_result"
    }
   ],
   "source": [
    "df = pd.read_csv('/Users/jacksonsorenson/Documents/Computational Media Lab/Weed Study/top25Dabs.csv')\n",
    "df.head()"
   ]
  },
  {
   "cell_type": "code",
   "execution_count": 4,
   "metadata": {},
   "outputs": [
    {
     "name": "stdout",
     "output_type": "stream",
     "text": [
      "<class 'pandas.core.frame.DataFrame'>\n",
      "RangeIndex: 675 entries, 0 to 674\n",
      "Data columns (total 7 columns):\n",
      " #   Column      Non-Null Count  Dtype  \n",
      "---  ------      --------------  -----  \n",
      " 0   quarter     675 non-null    object \n",
      " 1   epoch       675 non-null    object \n",
      " 2   author      675 non-null    object \n",
      " 3   pagerank    675 non-null    float64\n",
      " 4   kcore       675 non-null    int64  \n",
      " 5   degree      675 non-null    int64  \n",
      " 6   stays_next  675 non-null    int64  \n",
      "dtypes: float64(1), int64(3), object(3)\n",
      "memory usage: 37.0+ KB\n"
     ]
    }
   ],
   "source": [
    "df.info()"
   ]
  },
  {
   "cell_type": "code",
   "execution_count": 18,
   "metadata": {},
   "outputs": [],
   "source": [
    "# Prepare storage\n",
    "top25_by_epoch = []\n",
    "seen_users = set()\n",
    "\n",
    "# Ensure epochs are in order\n",
    "epoch_order = [\"E0\", \"E1\", \"E2\", \"E3\"]\n",
    "\n",
    "for epoch in epoch_order:\n",
    "    epoch_df = df[\n",
    "        (df[\"epoch\"] == epoch) &\n",
    "        (df[\"author\"] != \"[deleted]\") &\n",
    "        (~df[\"author\"].isin(seen_users))\n",
    "    ].sort_values(\"pagerank\", ascending=False)\n",
    "\n",
    "    top_25 = epoch_df.drop_duplicates(\"author\").head(25)\n",
    "    seen_users.update(top_25[\"author\"])\n",
    "    top25_by_epoch.append(top_25)\n",
    "\n",
    "# Combine into one DataFrame\n",
    "top25_unique = pd.concat(top25_by_epoch).reset_index(drop=True)\n"
   ]
  },
  {
   "cell_type": "code",
   "execution_count": 20,
   "metadata": {},
   "outputs": [
    {
     "data": {
      "text/html": [
       "<div>\n",
       "<style scoped>\n",
       "    .dataframe tbody tr th:only-of-type {\n",
       "        vertical-align: middle;\n",
       "    }\n",
       "\n",
       "    .dataframe tbody tr th {\n",
       "        vertical-align: top;\n",
       "    }\n",
       "\n",
       "    .dataframe thead th {\n",
       "        text-align: right;\n",
       "    }\n",
       "</style>\n",
       "<table border=\"1\" class=\"dataframe\">\n",
       "  <thead>\n",
       "    <tr style=\"text-align: right;\">\n",
       "      <th></th>\n",
       "      <th>author</th>\n",
       "      <th>epoch</th>\n",
       "    </tr>\n",
       "  </thead>\n",
       "  <tbody>\n",
       "    <tr>\n",
       "      <th>0</th>\n",
       "      <td>Igby8776</td>\n",
       "      <td>E0</td>\n",
       "    </tr>\n",
       "    <tr>\n",
       "      <th>1</th>\n",
       "      <td>IM_NOT_A_SMART_FELLA</td>\n",
       "      <td>E0</td>\n",
       "    </tr>\n",
       "    <tr>\n",
       "      <th>2</th>\n",
       "      <td>TrippyToast0</td>\n",
       "      <td>E0</td>\n",
       "    </tr>\n",
       "    <tr>\n",
       "      <th>3</th>\n",
       "      <td>Plasm800</td>\n",
       "      <td>E0</td>\n",
       "    </tr>\n",
       "    <tr>\n",
       "      <th>4</th>\n",
       "      <td>badf1nger</td>\n",
       "      <td>E0</td>\n",
       "    </tr>\n",
       "  </tbody>\n",
       "</table>\n",
       "</div>"
      ],
      "text/plain": [
       "                 author epoch\n",
       "0              Igby8776    E0\n",
       "1  IM_NOT_A_SMART_FELLA    E0\n",
       "2          TrippyToast0    E0\n",
       "3              Plasm800    E0\n",
       "4             badf1nger    E0"
      ]
     },
     "execution_count": 20,
     "metadata": {},
     "output_type": "execute_result"
    }
   ],
   "source": [
    "last = top25_unique[['author', 'epoch']]\n",
    "last.head()"
   ]
  },
  {
   "cell_type": "code",
   "execution_count": 21,
   "metadata": {},
   "outputs": [
    {
     "name": "stdout",
     "output_type": "stream",
     "text": [
      "<class 'pandas.core.frame.DataFrame'>\n",
      "RangeIndex: 99 entries, 0 to 98\n",
      "Data columns (total 2 columns):\n",
      " #   Column  Non-Null Count  Dtype \n",
      "---  ------  --------------  ----- \n",
      " 0   author  99 non-null     object\n",
      " 1   epoch   99 non-null     object\n",
      "dtypes: object(2)\n",
      "memory usage: 1.7+ KB\n"
     ]
    }
   ],
   "source": [
    "last.info()"
   ]
  },
  {
   "cell_type": "code",
   "execution_count": 24,
   "metadata": {},
   "outputs": [],
   "source": [
    "last.to_csv(\"~/Desktop/top25Dabs.csv\", index=False)"
   ]
  }
 ],
 "metadata": {
  "kernelspec": {
   "display_name": "Python 3",
   "language": "python",
   "name": "python3"
  },
  "language_info": {
   "codemirror_mode": {
    "name": "ipython",
    "version": 3
   },
   "file_extension": ".py",
   "mimetype": "text/x-python",
   "name": "python",
   "nbconvert_exporter": "python",
   "pygments_lexer": "ipython3",
   "version": "3.12.4"
  }
 },
 "nbformat": 4,
 "nbformat_minor": 2
}
